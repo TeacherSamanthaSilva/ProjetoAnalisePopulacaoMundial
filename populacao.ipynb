{
 "cells": [
  {
   "cell_type": "markdown",
   "id": "8286859d",
   "metadata": {},
   "source": [
    "# 🌍 Análise da População Mundial por País em 2025\n",
    "\n",
    "Este projeto tem como objetivo explorar e visualizar os dados de população mundial estimada para o ano de 2025, com base no conjunto de dados disponibilizado no Kaggle: [World Population by Country 2025](https://www.kaggle.com/datasets/asadullahcreative/world-population-by-country-2025).\n",
    "\n",
    "Através de análises estatísticas e visualizações interativas, buscamos responder perguntas como:\n",
    "\n",
    "- Quais serão os países mais populosos em 2025?\n",
    "- Como a população está distribuída entre os continentes?\n",
    "- Existe correlação entre taxa de crescimento populacional, migração e fertilidade?\n",
    "- Quais países enfrentam os maiores desafios demográficos?\n",
    "\n",
    "Além disso, o projeto visa desenvolver habilidades em análise de dados com Python, utilizando bibliotecas como `pandas`, `matplotlib`, `seaborn` e `plotly`, dentro do ambiente interativo do Jupyter Notebook.\n",
    "\n",
    "Vamos mergulhar nos dados e entender melhor o cenário populacional do nosso planeta 🌐\n"
   ]
  },
  {
   "cell_type": "markdown",
   "id": "d1a16b6e",
   "metadata": {},
   "source": [
    "## 📥 Carregamento dos Dados\n",
    "\n",
    "Nesta etapa, vamos importar o conjunto de dados contendo as estimativas de população mundial por país para o ano de 2025. Utilizaremos a biblioteca `pandas` para ler o arquivo CSV e realizar as primeiras inspeções.\n",
    "\n",
    "O objetivo é garantir que os dados foram carregados corretamente e estão prontos para análise. Também verificaremos a estrutura do DataFrame, os tipos de dados e a presença de valores nulos.\n",
    "\n",
    "A seguir, será exibida uma amostra dos dados para entendermos melhor suas colunas e conteúdo.\n"
   ]
  },
  {
   "cell_type": "code",
   "execution_count": 1,
   "id": "19f27f70",
   "metadata": {},
   "outputs": [
    {
     "data": {
      "text/html": [
       "<div>\n",
       "<style scoped>\n",
       "    .dataframe tbody tr th:only-of-type {\n",
       "        vertical-align: middle;\n",
       "    }\n",
       "\n",
       "    .dataframe tbody tr th {\n",
       "        vertical-align: top;\n",
       "    }\n",
       "\n",
       "    .dataframe thead th {\n",
       "        text-align: right;\n",
       "    }\n",
       "</style>\n",
       "<table border=\"1\" class=\"dataframe\">\n",
       "  <thead>\n",
       "    <tr style=\"text-align: right;\">\n",
       "      <th></th>\n",
       "      <th>id</th>\n",
       "      <th>Country (or dependency)</th>\n",
       "      <th>Population 2025</th>\n",
       "      <th>Yearly Change</th>\n",
       "      <th>Net Change</th>\n",
       "      <th>Density (P/Km²)</th>\n",
       "      <th>Land Area (Km²)</th>\n",
       "      <th>Migrants (net)</th>\n",
       "      <th>Fert. Rate</th>\n",
       "      <th>Median Age</th>\n",
       "      <th>Urban Pop %</th>\n",
       "      <th>World Share</th>\n",
       "    </tr>\n",
       "  </thead>\n",
       "  <tbody>\n",
       "    <tr>\n",
       "      <th>0</th>\n",
       "      <td>1</td>\n",
       "      <td>India</td>\n",
       "      <td>1463865525</td>\n",
       "      <td>0.89%</td>\n",
       "      <td>12929734</td>\n",
       "      <td>492</td>\n",
       "      <td>2973190</td>\n",
       "      <td>−495,753</td>\n",
       "      <td>1.94</td>\n",
       "      <td>28.8</td>\n",
       "      <td>37.1%</td>\n",
       "      <td>17.78%</td>\n",
       "    </tr>\n",
       "    <tr>\n",
       "      <th>1</th>\n",
       "      <td>2</td>\n",
       "      <td>China</td>\n",
       "      <td>1416096094</td>\n",
       "      <td>−0.23%</td>\n",
       "      <td>−3,225,184</td>\n",
       "      <td>151</td>\n",
       "      <td>9388211</td>\n",
       "      <td>−268,126</td>\n",
       "      <td>1.02</td>\n",
       "      <td>40.1</td>\n",
       "      <td>67.5%</td>\n",
       "      <td>17.20%</td>\n",
       "    </tr>\n",
       "    <tr>\n",
       "      <th>2</th>\n",
       "      <td>3</td>\n",
       "      <td>United States</td>\n",
       "      <td>347275807</td>\n",
       "      <td>0.54%</td>\n",
       "      <td>1849236</td>\n",
       "      <td>38</td>\n",
       "      <td>9147420</td>\n",
       "      <td>1230663</td>\n",
       "      <td>1.62</td>\n",
       "      <td>38.5</td>\n",
       "      <td>82.8%</td>\n",
       "      <td>4.22%</td>\n",
       "    </tr>\n",
       "    <tr>\n",
       "      <th>3</th>\n",
       "      <td>4</td>\n",
       "      <td>Indonesia</td>\n",
       "      <td>285721236</td>\n",
       "      <td>0.79%</td>\n",
       "      <td>2233305</td>\n",
       "      <td>158</td>\n",
       "      <td>1811570</td>\n",
       "      <td>−39,509</td>\n",
       "      <td>2.10</td>\n",
       "      <td>30.4</td>\n",
       "      <td>59.6%</td>\n",
       "      <td>3.47%</td>\n",
       "    </tr>\n",
       "    <tr>\n",
       "      <th>4</th>\n",
       "      <td>5</td>\n",
       "      <td>Pakistan</td>\n",
       "      <td>255219554</td>\n",
       "      <td>1.57%</td>\n",
       "      <td>3950390</td>\n",
       "      <td>331</td>\n",
       "      <td>770880</td>\n",
       "      <td>−1,235,336</td>\n",
       "      <td>3.50</td>\n",
       "      <td>20.6</td>\n",
       "      <td>34.4%</td>\n",
       "      <td>3.10%</td>\n",
       "    </tr>\n",
       "  </tbody>\n",
       "</table>\n",
       "</div>"
      ],
      "text/plain": [
       "   id Country (or dependency)  Population 2025 Yearly Change  Net Change  \\\n",
       "0   1                   India       1463865525         0.89%    12929734   \n",
       "1   2                   China       1416096094        −0.23%  −3,225,184   \n",
       "2   3           United States        347275807         0.54%     1849236   \n",
       "3   4               Indonesia        285721236         0.79%     2233305   \n",
       "4   5                Pakistan        255219554         1.57%     3950390   \n",
       "\n",
       "   Density (P/Km²)  Land Area (Km²) Migrants (net)  Fert. Rate  Median Age  \\\n",
       "0              492          2973190       −495,753        1.94        28.8   \n",
       "1              151          9388211       −268,126        1.02        40.1   \n",
       "2               38          9147420        1230663        1.62        38.5   \n",
       "3              158          1811570        −39,509        2.10        30.4   \n",
       "4              331           770880     −1,235,336        3.50        20.6   \n",
       "\n",
       "  Urban Pop % World Share  \n",
       "0       37.1%      17.78%  \n",
       "1       67.5%      17.20%  \n",
       "2       82.8%       4.22%  \n",
       "3       59.6%       3.47%  \n",
       "4       34.4%       3.10%  "
      ]
     },
     "execution_count": 1,
     "metadata": {},
     "output_type": "execute_result"
    }
   ],
   "source": [
    "# 📥 Carregamento dos Dados\n",
    "\n",
    "# Importar a biblioteca pandas\n",
    "import pandas as pd\n",
    "\n",
    "# Carregar o arquivo CSV (certifique-se de que o caminho está correto)\n",
    "df = pd.read_csv('population_data.csv')\n",
    "\n",
    "# Exibir as primeiras linhas do DataFrame\n",
    "df.head()\n"
   ]
  },
  {
   "cell_type": "markdown",
   "id": "98b178be",
   "metadata": {},
   "source": [
    "## 🧹 Limpeza e Verificação dos Dados\n",
    "\n",
    "Antes de iniciar as análises, é importante entender a estrutura do dataset e garantir que os dados estejam limpos e consistentes. Nesta etapa, vamos:\n",
    "\n",
    "- Verificar o nome e o tipo das colunas\n",
    "- Identificar valores ausentes (nulos)\n",
    "- Padronizar os nomes das colunas para facilitar o uso\n",
    "- Avaliar estatísticas descritivas iniciais\n"
   ]
  },
  {
   "cell_type": "code",
   "execution_count": 2,
   "id": "1fdbc154",
   "metadata": {},
   "outputs": [
    {
     "name": "stdout",
     "output_type": "stream",
     "text": [
      "<class 'pandas.core.frame.DataFrame'>\n",
      "RangeIndex: 233 entries, 0 to 232\n",
      "Data columns (total 12 columns):\n",
      " #   Column                   Non-Null Count  Dtype  \n",
      "---  ------                   --------------  -----  \n",
      " 0   id                       233 non-null    int64  \n",
      " 1   Country (or dependency)  233 non-null    object \n",
      " 2   Population 2025          233 non-null    int64  \n",
      " 3   Yearly Change            233 non-null    object \n",
      " 4   Net Change               233 non-null    object \n",
      " 5   Density (P/Km²)          233 non-null    int64  \n",
      " 6   Land Area (Km²)          233 non-null    int64  \n",
      " 7   Migrants (net)           233 non-null    object \n",
      " 8   Fert. Rate               233 non-null    float64\n",
      " 9   Median Age               233 non-null    float64\n",
      " 10  Urban Pop %              210 non-null    object \n",
      " 11  World Share              233 non-null    object \n",
      "dtypes: float64(2), int64(4), object(6)\n",
      "memory usage: 22.0+ KB\n",
      "\n",
      "Valores nulos por coluna:\n",
      "id                          0\n",
      "Country (or dependency)     0\n",
      "Population 2025             0\n",
      "Yearly Change               0\n",
      "Net Change                  0\n",
      "Density (P/Km²)             0\n",
      "Land Area (Km²)             0\n",
      "Migrants (net)              0\n",
      "Fert. Rate                  0\n",
      "Median Age                  0\n",
      "Urban Pop %                23\n",
      "World Share                 0\n",
      "dtype: int64\n"
     ]
    },
    {
     "data": {
      "text/html": [
       "<div>\n",
       "<style scoped>\n",
       "    .dataframe tbody tr th:only-of-type {\n",
       "        vertical-align: middle;\n",
       "    }\n",
       "\n",
       "    .dataframe tbody tr th {\n",
       "        vertical-align: top;\n",
       "    }\n",
       "\n",
       "    .dataframe thead th {\n",
       "        text-align: right;\n",
       "    }\n",
       "</style>\n",
       "<table border=\"1\" class=\"dataframe\">\n",
       "  <thead>\n",
       "    <tr style=\"text-align: right;\">\n",
       "      <th></th>\n",
       "      <th>id</th>\n",
       "      <th>country_(or_dependency)</th>\n",
       "      <th>population_2025</th>\n",
       "      <th>yearly_change</th>\n",
       "      <th>net_change</th>\n",
       "      <th>density_(p/km²)</th>\n",
       "      <th>land_area_(km²)</th>\n",
       "      <th>migrants_(net)</th>\n",
       "      <th>fert._rate</th>\n",
       "      <th>median_age</th>\n",
       "      <th>urban_pop_%</th>\n",
       "      <th>world_share</th>\n",
       "    </tr>\n",
       "  </thead>\n",
       "  <tbody>\n",
       "    <tr>\n",
       "      <th>count</th>\n",
       "      <td>233.000000</td>\n",
       "      <td>233</td>\n",
       "      <td>2.330000e+02</td>\n",
       "      <td>233</td>\n",
       "      <td>233</td>\n",
       "      <td>233.000000</td>\n",
       "      <td>2.330000e+02</td>\n",
       "      <td>233</td>\n",
       "      <td>233.000000</td>\n",
       "      <td>233.000000</td>\n",
       "      <td>210</td>\n",
       "      <td>233</td>\n",
       "    </tr>\n",
       "    <tr>\n",
       "      <th>unique</th>\n",
       "      <td>NaN</td>\n",
       "      <td>233</td>\n",
       "      <td>NaN</td>\n",
       "      <td>177</td>\n",
       "      <td>231</td>\n",
       "      <td>NaN</td>\n",
       "      <td>NaN</td>\n",
       "      <td>233</td>\n",
       "      <td>NaN</td>\n",
       "      <td>NaN</td>\n",
       "      <td>191</td>\n",
       "      <td>165</td>\n",
       "    </tr>\n",
       "    <tr>\n",
       "      <th>top</th>\n",
       "      <td>NaN</td>\n",
       "      <td>India</td>\n",
       "      <td>NaN</td>\n",
       "      <td>0.47%</td>\n",
       "      <td>5</td>\n",
       "      <td>NaN</td>\n",
       "      <td>NaN</td>\n",
       "      <td>−495,753</td>\n",
       "      <td>NaN</td>\n",
       "      <td>NaN</td>\n",
       "      <td>86%</td>\n",
       "      <td>0.13%</td>\n",
       "    </tr>\n",
       "    <tr>\n",
       "      <th>freq</th>\n",
       "      <td>NaN</td>\n",
       "      <td>1</td>\n",
       "      <td>NaN</td>\n",
       "      <td>4</td>\n",
       "      <td>2</td>\n",
       "      <td>NaN</td>\n",
       "      <td>NaN</td>\n",
       "      <td>1</td>\n",
       "      <td>NaN</td>\n",
       "      <td>NaN</td>\n",
       "      <td>2</td>\n",
       "      <td>8</td>\n",
       "    </tr>\n",
       "    <tr>\n",
       "      <th>mean</th>\n",
       "      <td>117.000000</td>\n",
       "      <td>NaN</td>\n",
       "      <td>3.532080e+07</td>\n",
       "      <td>NaN</td>\n",
       "      <td>NaN</td>\n",
       "      <td>487.673820</td>\n",
       "      <td>5.583427e+05</td>\n",
       "      <td>NaN</td>\n",
       "      <td>2.306094</td>\n",
       "      <td>31.896996</td>\n",
       "      <td>NaN</td>\n",
       "      <td>NaN</td>\n",
       "    </tr>\n",
       "    <tr>\n",
       "      <th>std</th>\n",
       "      <td>67.405489</td>\n",
       "      <td>NaN</td>\n",
       "      <td>1.391905e+08</td>\n",
       "      <td>NaN</td>\n",
       "      <td>NaN</td>\n",
       "      <td>2412.937646</td>\n",
       "      <td>1.694270e+06</td>\n",
       "      <td>NaN</td>\n",
       "      <td>1.134316</td>\n",
       "      <td>9.860936</td>\n",
       "      <td>NaN</td>\n",
       "      <td>NaN</td>\n",
       "    </tr>\n",
       "    <tr>\n",
       "      <th>min</th>\n",
       "      <td>1.000000</td>\n",
       "      <td>NaN</td>\n",
       "      <td>5.010000e+02</td>\n",
       "      <td>NaN</td>\n",
       "      <td>NaN</td>\n",
       "      <td>0.000000</td>\n",
       "      <td>0.000000e+00</td>\n",
       "      <td>NaN</td>\n",
       "      <td>0.690000</td>\n",
       "      <td>14.500000</td>\n",
       "      <td>NaN</td>\n",
       "      <td>NaN</td>\n",
       "    </tr>\n",
       "    <tr>\n",
       "      <th>25%</th>\n",
       "      <td>59.000000</td>\n",
       "      <td>NaN</td>\n",
       "      <td>4.663300e+05</td>\n",
       "      <td>NaN</td>\n",
       "      <td>NaN</td>\n",
       "      <td>38.000000</td>\n",
       "      <td>2.830000e+03</td>\n",
       "      <td>NaN</td>\n",
       "      <td>1.470000</td>\n",
       "      <td>22.900000</td>\n",
       "      <td>NaN</td>\n",
       "      <td>NaN</td>\n",
       "    </tr>\n",
       "    <tr>\n",
       "      <th>50%</th>\n",
       "      <td>117.000000</td>\n",
       "      <td>NaN</td>\n",
       "      <td>5.731206e+06</td>\n",
       "      <td>NaN</td>\n",
       "      <td>NaN</td>\n",
       "      <td>98.000000</td>\n",
       "      <td>8.220000e+04</td>\n",
       "      <td>NaN</td>\n",
       "      <td>1.940000</td>\n",
       "      <td>32.800000</td>\n",
       "      <td>NaN</td>\n",
       "      <td>NaN</td>\n",
       "    </tr>\n",
       "    <tr>\n",
       "      <th>75%</th>\n",
       "      <td>175.000000</td>\n",
       "      <td>NaN</td>\n",
       "      <td>2.407458e+07</td>\n",
       "      <td>NaN</td>\n",
       "      <td>NaN</td>\n",
       "      <td>256.000000</td>\n",
       "      <td>4.103400e+05</td>\n",
       "      <td>NaN</td>\n",
       "      <td>2.950000</td>\n",
       "      <td>39.800000</td>\n",
       "      <td>NaN</td>\n",
       "      <td>NaN</td>\n",
       "    </tr>\n",
       "    <tr>\n",
       "      <th>max</th>\n",
       "      <td>233.000000</td>\n",
       "      <td>NaN</td>\n",
       "      <td>1.463866e+09</td>\n",
       "      <td>NaN</td>\n",
       "      <td>NaN</td>\n",
       "      <td>25732.000000</td>\n",
       "      <td>1.637687e+07</td>\n",
       "      <td>NaN</td>\n",
       "      <td>5.940000</td>\n",
       "      <td>57.400000</td>\n",
       "      <td>NaN</td>\n",
       "      <td>NaN</td>\n",
       "    </tr>\n",
       "  </tbody>\n",
       "</table>\n",
       "</div>"
      ],
      "text/plain": [
       "                id country_(or_dependency)  population_2025 yearly_change  \\\n",
       "count   233.000000                     233     2.330000e+02           233   \n",
       "unique         NaN                     233              NaN           177   \n",
       "top            NaN                   India              NaN         0.47%   \n",
       "freq           NaN                       1              NaN             4   \n",
       "mean    117.000000                     NaN     3.532080e+07           NaN   \n",
       "std      67.405489                     NaN     1.391905e+08           NaN   \n",
       "min       1.000000                     NaN     5.010000e+02           NaN   \n",
       "25%      59.000000                     NaN     4.663300e+05           NaN   \n",
       "50%     117.000000                     NaN     5.731206e+06           NaN   \n",
       "75%     175.000000                     NaN     2.407458e+07           NaN   \n",
       "max     233.000000                     NaN     1.463866e+09           NaN   \n",
       "\n",
       "       net_change  density_(p/km²)  land_area_(km²) migrants_(net)  \\\n",
       "count         233       233.000000     2.330000e+02            233   \n",
       "unique        231              NaN              NaN            233   \n",
       "top             5              NaN              NaN       −495,753   \n",
       "freq            2              NaN              NaN              1   \n",
       "mean          NaN       487.673820     5.583427e+05            NaN   \n",
       "std           NaN      2412.937646     1.694270e+06            NaN   \n",
       "min           NaN         0.000000     0.000000e+00            NaN   \n",
       "25%           NaN        38.000000     2.830000e+03            NaN   \n",
       "50%           NaN        98.000000     8.220000e+04            NaN   \n",
       "75%           NaN       256.000000     4.103400e+05            NaN   \n",
       "max           NaN     25732.000000     1.637687e+07            NaN   \n",
       "\n",
       "        fert._rate  median_age urban_pop_% world_share  \n",
       "count   233.000000  233.000000         210         233  \n",
       "unique         NaN         NaN         191         165  \n",
       "top            NaN         NaN         86%       0.13%  \n",
       "freq           NaN         NaN           2           8  \n",
       "mean      2.306094   31.896996         NaN         NaN  \n",
       "std       1.134316    9.860936         NaN         NaN  \n",
       "min       0.690000   14.500000         NaN         NaN  \n",
       "25%       1.470000   22.900000         NaN         NaN  \n",
       "50%       1.940000   32.800000         NaN         NaN  \n",
       "75%       2.950000   39.800000         NaN         NaN  \n",
       "max       5.940000   57.400000         NaN         NaN  "
      ]
     },
     "execution_count": 2,
     "metadata": {},
     "output_type": "execute_result"
    }
   ],
   "source": [
    "# Verificar as colunas e tipos de dados\n",
    "df.info()\n",
    "\n",
    "# Verificar valores ausentes\n",
    "print(\"\\nValores nulos por coluna:\")\n",
    "print(df.isnull().sum())\n",
    "\n",
    "# Padronizar nomes das colunas (sem espaços e tudo minúsculo)\n",
    "df.columns = [col.strip().lower().replace(' ', '_') for col in df.columns]\n",
    "\n",
    "# Visualizar estatísticas descritivas\n",
    "df.describe(include='all')\n"
   ]
  },
  {
   "cell_type": "markdown",
   "id": "6cb96a4b",
   "metadata": {},
   "source": [
    "## 🔍 Estrutura e Qualidade dos Dados\n",
    "\n",
    "O dataset contém **233 registros** e **12 colunas**, abrangendo informações demográficas de países e dependências para o ano de 2025.\n",
    "\n",
    "### Principais observações:\n",
    "- As colunas estão em diferentes formatos: `int64`, `float64` e `object`.\n",
    "- Algumas colunas numéricas estão como texto (`object`), como:\n",
    "  - `Yearly Change`\n",
    "  - `Net Change`\n",
    "  - `Migrants (net)`\n",
    "  - `Urban Pop %`\n",
    "  - `World Share`\n",
    "- A coluna `Urban Pop %` possui **23 valores nulos**, que devem ser tratados.\n",
    "- Os nomes das colunas ainda contêm espaços e caracteres especiais, o que pode dificultar a manipulação.\n",
    "\n",
    "A seguir, vamos:\n",
    "- Padronizar os nomes das colunas\n",
    "- Converter colunas numéricas que estão como texto\n",
    "- Tratar os valores nulos\n"
   ]
  },
  {
   "cell_type": "code",
   "execution_count": 3,
   "id": "6fc90656",
   "metadata": {},
   "outputs": [
    {
     "name": "stderr",
     "output_type": "stream",
     "text": [
      "C:\\Users\\Samantha\\AppData\\Local\\Temp\\ipykernel_13036\\252026309.py:14: FutureWarning: A value is trying to be set on a copy of a DataFrame or Series through chained assignment using an inplace method.\n",
      "The behavior will change in pandas 3.0. This inplace method will never work because the intermediate object on which we are setting values always behaves as a copy.\n",
      "\n",
      "For example, when doing 'df[col].method(value, inplace=True)', try using 'df.method({col: value}, inplace=True)' or df[col] = df[col].method(value) instead, to perform the operation inplace on the original object.\n",
      "\n",
      "\n",
      "  df['urban_pop_%'].fillna(df['urban_pop_%'].median(), inplace=True)\n"
     ]
    }
   ],
   "source": [
    "# Padronizar nomes das colunas\n",
    "df.columns = [col.strip().lower().replace(' ', '_').replace('(', '').replace(')', '').replace('.', '') for col in df.columns]\n",
    "\n",
    "# Converter colunas numéricas que estão como texto\n",
    "cols_to_convert = ['yearly_change', 'net_change', 'migrants_net', 'urban_pop_%', 'world_share']\n",
    "for col in cols_to_convert:\n",
    "    df[col] = df[col].str.replace('%', '').str.replace(',', '').str.replace('N.A.', '').str.strip()\n",
    "    df[col] = pd.to_numeric(df[col], errors='coerce')\n",
    "\n",
    "# Verificar novamente os tipos\n",
    "df.dtypes\n",
    "\n",
    "# Tratar valores nulos (exemplo: preencher com mediana ou remover)\n",
    "df['urban_pop_%'].fillna(df['urban_pop_%'].median(), inplace=True)\n"
   ]
  },
  {
   "cell_type": "markdown",
   "id": "e5bdc64c",
   "metadata": {},
   "source": [
    "## 📊 Análise Exploratória e Visualizações\n",
    "\n",
    "Com os dados limpos, podemos agora explorar padrões e tendências demográficas para o ano de 2025. Nesta seção, vamos:\n",
    "\n",
    "- Identificar os países mais populosos\n",
    "- Analisar a distribuição da população por continente (se aplicável)\n",
    "- Explorar a relação entre crescimento populacional, migração e taxa de fertilidade\n",
    "- Visualizar os dados com gráficos interativos e mapas\n",
    "\n",
    "Essas análises nos ajudarão a entender melhor os desafios e oportunidades demográficos ao redor do mundo.\n"
   ]
  },
  {
   "cell_type": "code",
   "execution_count": 4,
   "id": "347e0547",
   "metadata": {},
   "outputs": [
    {
     "name": "stderr",
     "output_type": "stream",
     "text": [
      "C:\\Users\\Samantha\\AppData\\Local\\Temp\\ipykernel_13036\\3783514461.py:9: FutureWarning: \n",
      "\n",
      "Passing `palette` without assigning `hue` is deprecated and will be removed in v0.14.0. Assign the `y` variable to `hue` and set `legend=False` for the same effect.\n",
      "\n",
      "  sns.barplot(x='population_2025', y='country_or_dependency', data=top10, palette='viridis')\n",
      "C:\\Users\\Samantha\\AppData\\Local\\Temp\\ipykernel_13036\\3783514461.py:13: UserWarning: Glyph 127757 (\\N{EARTH GLOBE EUROPE-AFRICA}) missing from current font.\n",
      "  plt.tight_layout()\n",
      "c:\\Users\\Samantha\\AppData\\Local\\Programs\\Python\\Python311\\Lib\\site-packages\\IPython\\core\\pylabtools.py:170: UserWarning: Glyph 127757 (\\N{EARTH GLOBE EUROPE-AFRICA}) missing from current font.\n",
      "  fig.canvas.print_figure(bytes_io, **kw)\n"
     ]
    },
    {
     "data": {
      "image/png": "[encoded data removed]",
      "text/plain": [
       "<Figure size 1000x600 with 1 Axes>"
      ]
     },
     "metadata": {},
     "output_type": "display_data"
    }
   ],
   "source": [
    "import matplotlib.pyplot as plt\n",
    "import seaborn as sns\n",
    "\n",
    "# Top 10 países mais populosos\n",
    "top10 = df.sort_values(by='population_2025', ascending=False).head(10)\n",
    "\n",
    "# Gráfico de barras\n",
    "plt.figure(figsize=(10,6))\n",
    "sns.barplot(x='population_2025', y='country_or_dependency', data=top10, palette='viridis')\n",
    "plt.title('🌍 Top 10 Países Mais Populosos em 2025')\n",
    "plt.xlabel('População Estimada')\n",
    "plt.ylabel('País')\n",
    "plt.tight_layout()\n",
    "plt.show()\n"
   ]
  },
  {
   "cell_type": "code",
   "execution_count": 5,
   "id": "7a1d7659",
   "metadata": {},
   "outputs": [
    {
     "data": {
      "application/vnd.plotly.v1+json": {
       "config": {
        "plotlyServerURL": "https://plot.ly"
       },
       "data": [
        {
         "coloraxis": "coloraxis",
         "geo": "geo",
         "hovertemplate": "<b>%{hovertext}</b><br><br>country_or_dependency=%{location}<br>population_2025=%{z}<extra></extra>",
         "hovertext": [
          "India",
          "China",
          "United States",
          "Indonesia",
          "Pakistan",
          "Nigeria",
          "Brazil",
          "Bangladesh",
          "Russia",
          "Ethiopia",
          "Mexico",
          "Japan",
          "Egypt",
          "Philippines",
          "DR Congo",
          "Vietnam",
          "Iran",
          "Turkey",
          "Germany",
          "Thailand",
          "Tanzania",
          "United Kingdom",
          "France",
          "South Africa",
          "Italy",
          "Kenya",
          "Myanmar",
          "Colombia",
          "South Korea",
          "Sudan",
          "Uganda",
          "Spain",
          "Algeria",
          "Iraq",
          "Argentina",
          "Afghanistan",
          "Yemen",
          "Canada",
          "Angola",
          "Ukraine",
          "Morocco",
          "Poland",
          "Uzbekistan",
          "Malaysia",
          "Mozambique",
          "Ghana",
          "Peru",
          "Saudi Arabia",
          "Madagascar",
          "Côte d'Ivoire",
          "Cameroon",
          "Nepal",
          "Venezuela",
          "Niger",
          "Australia",
          "North Korea",
          "Syria",
          "Mali",
          "Burkina Faso",
          "Sri Lanka",
          "Taiwan",
          "Malawi",
          "Zambia",
          "Chad",
          "Kazakhstan",
          "Chile",
          "Somalia",
          "Senegal",
          "Romania",
          "Guatemala",
          "Netherlands",
          "Ecuador",
          "Cambodia",
          "Zimbabwe",
          "Guinea",
          "Benin",
          "Rwanda",
          "Burundi",
          "Bolivia",
          "Tunisia",
          "South Sudan",
          "Haiti",
          "Belgium",
          "Jordan",
          "Dominican Republic",
          "United Arab Emirates",
          "Honduras",
          "Cuba",
          "Tajikistan",
          "Papua New Guinea",
          "Sweden",
          "Czech Republic (Czechia)",
          "Portugal",
          "Azerbaijan",
          "Greece",
          "Togo",
          "Hungary",
          "Israel",
          "Austria",
          "Belarus",
          "Switzerland",
          "Sierra Leone",
          "Laos",
          "Turkmenistan",
          "Libya",
          "Hong Kong",
          "Kyrgyzstan",
          "Paraguay",
          "Nicaragua",
          "Bulgaria",
          "Serbia",
          "Congo",
          "El Salvador",
          "Denmark",
          "Singapore",
          "Lebanon",
          "Liberia",
          "Finland",
          "Norway",
          "State of Palestine",
          "Central African Republic",
          "Oman",
          "Slovakia",
          "Mauritania",
          "Ireland",
          "New Zealand",
          "Costa Rica",
          "Kuwait",
          "Panama",
          "Croatia",
          "Georgia",
          "Eritrea",
          "Mongolia",
          "Uruguay",
          "Puerto Rico",
          "Bosnia and Herzegovina",
          "Qatar",
          "Namibia",
          "Moldova",
          "Armenia",
          "Jamaica",
          "Lithuania",
          "Gambia",
          "Albania",
          "Gabon",
          "Botswana",
          "Lesotho",
          "Guinea-Bissau",
          "Slovenia",
          "Equatorial Guinea",
          "Latvia",
          "North Macedonia",
          "Bahrain",
          "Trinidad and Tobago",
          "Timor-Leste",
          "Cyprus",
          "Estonia",
          "Mauritius",
          "Eswatini",
          "Djibouti",
          "Fiji",
          "Comoros",
          "Réunion",
          "Solomon Islands",
          "Guyana",
          "Bhutan",
          "Macao",
          "Luxembourg",
          "Suriname",
          "Montenegro",
          "Western Sahara",
          "Malta",
          "Maldives",
          "Cabo Verde",
          "Brunei",
          "Belize",
          "Bahamas",
          "Iceland",
          "Guadeloupe",
          "Martinique",
          "Mayotte",
          "Vanuatu",
          "French Guiana",
          "New Caledonia",
          "Barbados",
          "French Polynesia",
          "Sao Tome & Principe",
          "Samoa",
          "Curaçao",
          "Saint Lucia",
          "Guam",
          "Kiribati",
          "Seychelles",
          "Grenada",
          "Micronesia",
          "Aruba",
          "Tonga",
          "St. Vincent & Grenadines",
          "Antigua and Barbuda",
          "U.S. Virgin Islands",
          "Isle of Man",
          "Andorra",
          "Cayman Islands",
          "Dominica",
          "Bermuda",
          "Faeroe Islands",
          "Greenland",
          "Saint Kitts & Nevis",
          "Turks and Caicos",
          "American Samoa",
          "Sint Maarten",
          "Northern Mariana Islands",
          "Liechtenstein",
          "Gibraltar",
          "British Virgin Islands",
          "Monaco",
          "Marshall Islands",
          "San Marino",
          "Caribbean Netherlands",
          "Palau",
          "Anguilla",
          "Cook Islands",
          "Nauru",
          "Saint Barthelemy",
          "Wallis & Futuna",
          "Tuvalu",
          "Saint Pierre & Miquelon",
          "Saint Helena",
          "Montserrat",
          "Falkland Islands",
          "Tokelau",
          "Niue",
          "Holy See"
         ],
         "locationmode": "country names",
         "locations": [
          "India",
          "China",
          "United States",
          "Indonesia",
          "Pakistan",
          "Nigeria",
          "Brazil",
          "Bangladesh",
          "Russia",
          "Ethiopia",
          "Mexico",
          "Japan",
          "Egypt",
          "Philippines",
          "DR Congo",
          "Vietnam",
          "Iran",
          "Turkey",
          "Germany",
          "Thailand",
          "Tanzania",
          "United Kingdom",
          "France",
          "South Africa",
          "Italy",
          "Kenya",
          "Myanmar",
          "Colombia",
          "South Korea",
          "Sudan",
          "Uganda",
          "Spain",
          "Algeria",
          "Iraq",
          "Argentina",
          "Afghanistan",
          "Yemen",
          "Canada",
          "Angola",
          "Ukraine",
          "Morocco",
          "Poland",
          "Uzbekistan",
          "Malaysia",
          "Mozambique",
          "Ghana",
          "Peru",
          "Saudi Arabia",
          "Madagascar",
          "Côte d'Ivoire",
          "Cameroon",
          "Nepal",
          "Venezuela",
          "Niger",
          "Australia",
          "North Korea",
          "Syria",
          "Mali",
          "Burkina Faso",
          "Sri Lanka",
          "Taiwan",
          "Malawi",
          "Zambia",
          "Chad",
          "Kazakhstan",
          "Chile",
          "Somalia",
          "Senegal",
          "Romania",
          "Guatemala",
          "Netherlands",
          "Ecuador",
          "Cambodia",
          "Zimbabwe",
          "Guinea",
          "Benin",
          "Rwanda",
          "Burundi",
          "Bolivia",
          "Tunisia",
          "South Sudan",
          "Haiti",
          "Belgium",
          "Jordan",
          "Dominican Republic",
          "United Arab Emirates",
          "Honduras",
          "Cuba",
          "Tajikistan",
          "Papua New Guinea",
          "Sweden",
          "Czech Republic (Czechia)",
          "Portugal",
          "Azerbaijan",
          "Greece",
          "Togo",
          "Hungary",
          "Israel",
          "Austria",
          "Belarus",
          "Switzerland",
          "Sierra Leone",
          "Laos",
          "Turkmenistan",
          "Libya",
          "Hong Kong",
          "Kyrgyzstan",
          "Paraguay",
          "Nicaragua",
          "Bulgaria",
          "Serbia",
          "Congo",
          "El Salvador",
          "Denmark",
          "Singapore",
          "Lebanon",
          "Liberia",
          "Finland",
          "Norway",
          "State of Palestine",
          "Central African Republic",
          "Oman",
          "Slovakia",
          "Mauritania",
          "Ireland",
          "New Zealand",
          "Costa Rica",
          "Kuwait",
          "Panama",
          "Croatia",
          "Georgia",
          "Eritrea",
          "Mongolia",
          "Uruguay",
          "Puerto Rico",
          "Bosnia and Herzegovina",
          "Qatar",
          "Namibia",
          "Moldova",
          "Armenia",
          "Jamaica",
          "Lithuania",
          "Gambia",
          "Albania",
          "Gabon",
          "Botswana",
          "Lesotho",
          "Guinea-Bissau",
          "Slovenia",
          "Equatorial Guinea",
          "Latvia",
          "North Macedonia",
          "Bahrain",
          "Trinidad and Tobago",
          "Timor-Leste",
          "Cyprus",
          "Estonia",
          "Mauritius",
          "Eswatini",
          "Djibouti",
          "Fiji",
          "Comoros",
          "Réunion",
          "Solomon Islands",
          "Guyana",
          "Bhutan",
          "Macao",
          "Luxembourg",
          "Suriname",
          "Montenegro",
          "Western Sahara",
          "Malta",
          "Maldives",
          "Cabo Verde",
          "Brunei",
          "Belize",
          "Bahamas",
          "Iceland",
          "Guadeloupe",
          "Martinique",
          "Mayotte",
          "Vanuatu",
          "French Guiana",
          "New Caledonia",
          "Barbados",
          "French Polynesia",
          "Sao Tome & Principe",
          "Samoa",
          "Curaçao",
          "Saint Lucia",
          "Guam",
          "Kiribati",
          "Seychelles",
          "Grenada",
          "Micronesia",
          "Aruba",
          "Tonga",
          "St. Vincent & Grenadines",
          "Antigua and Barbuda",
          "U.S. Virgin Islands",
          "Isle of Man",
          "Andorra",
          "Cayman Islands",
          "Dominica",
          "Bermuda",
          "Faeroe Islands",
          "Greenland",
          "Saint Kitts & Nevis",
          "Turks and Caicos",
          "American Samoa",
          "Sint Maarten",
          "Northern Mariana Islands",
          "Liechtenstein",
          "Gibraltar",
          "British Virgin Islands",
          "Monaco",
          "Marshall Islands",
          "San Marino",
          "Caribbean Netherlands",
          "Palau",
          "Anguilla",
          "Cook Islands",
          "Nauru",
          "Saint Barthelemy",
          "Wallis & Futuna",
          "Tuvalu",
          "Saint Pierre & Miquelon",
          "Saint Helena",
          "Montserrat",
          "Falkland Islands",
          "Tokelau",
          "Niue",
          "Holy See"
         ],
         "name": "",
         "type": "choropleth",
         "z": [
          1463865525,
          1416096094,
          347275807,
          285721236,
          255219554,
          237527782,
          212812405,
          175686899,
          143997393,
          135472051,
          131946900,
          123103479,
          118365995,
          116786962,
          112832473,
          101598527,
          92417681,
          87685426,
          84075075,
          71619863,
          70545865,
          69551332,
          66650804,
          64747319,
          59146260,
          57532493,
          54850648,
          53425635,
          51667029,
          51662147,
          51384894,
          47889958,
          47435312,
          47020774,
          45851378,
          43844111,
          41773878,
          40126723,
          39040039,
          38980376,
          38430770,
          38140910,
          37053428,
          35977838,
          35631653,
          35064272,
          34576665,
          34566328,
          32740678,
          32711547,
          29879337,
          29618118,
          28516896,
          27917831,
          26974026,
          26571036,
          25620427,
          25198821,
          24074580,
          23229470,
          23112793,
          22216120,
          21913874,
          21003705,
          20843754,
          19859921,
          19654739,
          18931966,
          18908650,
          18687881,
          18346819,
          18289896,
          17847982,
          16950795,
          15099727,
          14814460,
          14569341,
          14390003,
          12581843,
          12348573,
          12188788,
          11906095,
          11758603,
          11520684,
          11520487,
          11346000,
          11005850,
          10937203,
          10786734,
          10762817,
          10656633,
          10609239,
          10411834,
          10397713,
          9938844,
          9721608,
          9632287,
          9517181,
          9113574,
          8997603,
          8967407,
          8819794,
          7873046,
          7618847,
          7458555,
          7396076,
          7295034,
          7013078,
          7007502,
          6714560,
          6689039,
          6484437,
          6365503,
          6002507,
          5870750,
          5849421,
          5731206,
          5623329,
          5623071,
          5589623,
          5513282,
          5494691,
          5474881,
          5315065,
          5308039,
          5251899,
          5152950,
          5026078,
          4571189,
          3848160,
          3806671,
          3607003,
          3517100,
          3384688,
          3235289,
          3140095,
          3115889,
          3092816,
          2996106,
          2952365,
          2837077,
          2830144,
          2822093,
          2771508,
          2593130,
          2562122,
          2363325,
          2249515,
          2117072,
          1938431,
          1853559,
          1813791,
          1643332,
          1511155,
          1418517,
          1370754,
          1344232,
          1268280,
          1256174,
          1184076,
          933154,
          882847,
          882405,
          838645,
          835986,
          796682,
          722007,
          680453,
          639850,
          632729,
          600904,
          545405,
          529676,
          527326,
          466330,
          422924,
          403033,
          398266,
          373791,
          340439,
          337011,
          335169,
          313666,
          295333,
          282623,
          282465,
          240254,
          219306,
          185487,
          180149,
          168999,
          136488,
          132779,
          117303,
          113683,
          108147,
          103742,
          99924,
          94209,
          84138,
          84118,
          82904,
          75844,
          65871,
          64555,
          56002,
          55745,
          46922,
          46855,
          46029,
          43923,
          43541,
          40128,
          40126,
          39732,
          38341,
          36282,
          33572,
          31338,
          17663,
          14728,
          13263,
          12025,
          11414,
          11194,
          9492,
          5574,
          5197,
          4359,
          3469,
          2608,
          1821,
          501
         ]
        }
       ],
       "layout": {
        "coloraxis": {
         "colorbar": {
          "title": {
           "text": "population_2025"
          }
         },
         "colorscale": [
          [
           0,
           "#0d0887"
          ],
          [
           0.1111111111111111,
           "#46039f"
          ],
          [
           0.2222222222222222,
           "#7201a8"
          ],
          [
           0.3333333333333333,
           "#9c179e"
          ],
          [
           0.4444444444444444,
           "#bd3786"
          ],
          [
           0.5555555555555556,
           "#d8576b"
          ],
          [
           0.6666666666666666,
           "#ed7953"
          ],
          [
           0.7777777777777778,
           "#fb9f3a"
          ],
          [
           0.8888888888888888,
           "#fdca26"
          ],
          [
           1,
           "#f0f921"
          ]
         ]
        },
        "geo": {
         "center": {},
         "domain": {
          "x": [
           0,
           1
          ],
          "y": [
           0,
           1
          ]
         }
        },
        "legend": {
         "tracegroupgap": 0
        },
        "template": {
         "data": {
          "bar": [
           {
            "error_x": {
             "color": "#2a3f5f"
            },
            "error_y": {
             "color": "#2a3f5f"
            },
            "marker": {
             "line": {
              "color": "#E5ECF6",
              "width": 0.5
             },
             "pattern": {
              "fillmode": "overlay",
              "size": 10,
              "solidity": 0.2
             }
            },
            "type": "bar"
           }
          ],
          "barpolar": [
           {
            "marker": {
             "line": {
              "color": "#E5ECF6",
              "width": 0.5
             },
             "pattern": {
              "fillmode": "overlay",
              "size": 10,
              "solidity": 0.2
             }
            },
            "type": "barpolar"
           }
          ],
          "carpet": [
           {
            "aaxis": {
             "endlinecolor": "#2a3f5f",
             "gridcolor": "white",
             "linecolor": "white",
             "minorgridcolor": "white",
             "startlinecolor": "#2a3f5f"
            },
            "baxis": {
             "endlinecolor": "#2a3f5f",
             "gridcolor": "white",
             "linecolor": "white",
             "minorgridcolor": "white",
             "startlinecolor": "#2a3f5f"
            },
            "type": "carpet"
           }
          ],
          "choropleth": [
           {
            "colorbar": {
             "outlinewidth": 0,
             "ticks": ""
            },
            "type": "choropleth"
           }
          ],
          "contour": [
           {
            "colorbar": {
             "outlinewidth": 0,
             "ticks": ""
            },
            "colorscale": [
             [
              0,
              "#0d0887"
             ],
             [
              0.1111111111111111,
              "#46039f"
             ],
             [
              0.2222222222222222,
              "#7201a8"
             ],
             [
              0.3333333333333333,
              "#9c179e"
             ],
             [
              0.4444444444444444,
              "#bd3786"
             ],
             [
              0.5555555555555556,
              "#d8576b"
             ],
             [
              0.6666666666666666,
              "#ed7953"
             ],
             [
              0.7777777777777778,
              "#fb9f3a"
             ],
             [
              0.8888888888888888,
              "#fdca26"
             ],
             [
              1,
              "#f0f921"
             ]
            ],
            "type": "contour"
           }
          ],
          "contourcarpet": [
           {
            "colorbar": {
             "outlinewidth": 0,
             "ticks": ""
            },
            "type": "contourcarpet"
           }
          ],
          "heatmap": [
           {
            "colorbar": {
             "outlinewidth": 0,
             "ticks": ""
            },
            "colorscale": [
             [
              0,
              "#0d0887"
             ],
             [
              0.1111111111111111,
              "#46039f"
             ],
             [
              0.2222222222222222,
              "#7201a8"
             ],
             [
              0.3333333333333333,
              "#9c179e"
             ],
             [
              0.4444444444444444,
              "#bd3786"
             ],
             [
              0.5555555555555556,
              "#d8576b"
             ],
             [
              0.6666666666666666,
              "#ed7953"
             ],
             [
              0.7777777777777778,
              "#fb9f3a"
             ],
             [
              0.8888888888888888,
              "#fdca26"
             ],
             [
              1,
              "#f0f921"
             ]
            ],
            "type": "heatmap"
           }
          ],
          "heatmapgl": [
           {
            "colorbar": {
             "outlinewidth": 0,
             "ticks": ""
            },
            "colorscale": [
             [
              0,
              "#0d0887"
             ],
             [
              0.1111111111111111,
              "#46039f"
             ],
             [
              0.2222222222222222,
              "#7201a8"
             ],
             [
              0.3333333333333333,
              "#9c179e"
             ],
             [
              0.4444444444444444,
              "#bd3786"
             ],
             [
              0.5555555555555556,
              "#d8576b"
             ],
             [
              0.6666666666666666,
              "#ed7953"
             ],
             [
              0.7777777777777778,
              "#fb9f3a"
             ],
             [
              0.8888888888888888,
              "#fdca26"
             ],
             [
              1,
              "#f0f921"
             ]
            ],
            "type": "heatmapgl"
           }
          ],
          "histogram": [
           {
            "marker": {
             "pattern": {
              "fillmode": "overlay",
              "size": 10,
              "solidity": 0.2
             }
            },
            "type": "histogram"
           }
          ],
          "histogram2d": [
           {
            "colorbar": {
             "outlinewidth": 0,
             "ticks": ""
            },
            "colorscale": [
             [
              0,
              "#0d0887"
             ],
             [
              0.1111111111111111,
              "#46039f"
             ],
             [
              0.2222222222222222,
              "#7201a8"
             ],
             [
              0.3333333333333333,
              "#9c179e"
             ],
             [
              0.4444444444444444,
              "#bd3786"
             ],
             [
              0.5555555555555556,
              "#d8576b"
             ],
             [
              0.6666666666666666,
              "#ed7953"
             ],
             [
              0.7777777777777778,
              "#fb9f3a"
             ],
             [
              0.8888888888888888,
              "#fdca26"
             ],
             [
              1,
              "#f0f921"
             ]
            ],
            "type": "histogram2d"
           }
          ],
          "histogram2dcontour": [
           {
            "colorbar": {
             "outlinewidth": 0,
             "ticks": ""
            },
            "colorscale": [
             [
              0,
              "#0d0887"
             ],
             [
              0.1111111111111111,
              "#46039f"
             ],
             [
              0.2222222222222222,
              "#7201a8"
             ],
             [
              0.3333333333333333,
              "#9c179e"
             ],
             [
              0.4444444444444444,
              "#bd3786"
             ],
             [
              0.5555555555555556,
              "#d8576b"
             ],
             [
              0.6666666666666666,
              "#ed7953"
             ],
             [
              0.7777777777777778,
              "#fb9f3a"
             ],
             [
              0.8888888888888888,
              "#fdca26"
             ],
             [
              1,
              "#f0f921"
             ]
            ],
            "type": "histogram2dcontour"
           }
          ],
          "mesh3d": [
           {
            "colorbar": {
             "outlinewidth": 0,
             "ticks": ""
            },
            "type": "mesh3d"
           }
          ],
          "parcoords": [
           {
            "line": {
             "colorbar": {
              "outlinewidth": 0,
              "ticks": ""
             }
            },
            "type": "parcoords"
           }
          ],
          "pie": [
           {
            "automargin": true,
            "type": "pie"
           }
          ],
          "scatter": [
           {
            "fillpattern": {
             "fillmode": "overlay",
             "size": 10,
             "solidity": 0.2
            },
            "type": "scatter"
           }
          ],
          "scatter3d": [
           {
            "line": {
             "colorbar": {
              "outlinewidth": 0,
              "ticks": ""
             }
            },
            "marker": {
             "colorbar": {
              "outlinewidth": 0,
              "ticks": ""
             }
            },
            "type": "scatter3d"
           }
          ],
          "scattercarpet": [
           {
            "marker": {
             "colorbar": {
              "outlinewidth": 0,
              "ticks": ""
             }
            },
            "type": "scattercarpet"
           }
          ],
          "scattergeo": [
           {
            "marker": {
             "colorbar": {
              "outlinewidth": 0,
              "ticks": ""
             }
            },
            "type": "scattergeo"
           }
          ],
          "scattergl": [
           {
            "marker": {
             "colorbar": {
              "outlinewidth": 0,
              "ticks": ""
             }
            },
            "type": "scattergl"
           }
          ],
          "scattermapbox": [
           {
            "marker": {
             "colorbar": {
              "outlinewidth": 0,
              "ticks": ""
             }
            },
            "type": "scattermapbox"
           }
          ],
          "scatterpolar": [
           {
            "marker": {
             "colorbar": {
              "outlinewidth": 0,
              "ticks": ""
             }
            },
            "type": "scatterpolar"
           }
          ],
          "scatterpolargl": [
           {
            "marker": {
             "colorbar": {
              "outlinewidth": 0,
              "ticks": ""
             }
            },
            "type": "scatterpolargl"
           }
          ],
          "scatterternary": [
           {
            "marker": {
             "colorbar": {
              "outlinewidth": 0,
              "ticks": ""
             }
            },
            "type": "scatterternary"
           }
          ],
          "surface": [
           {
            "colorbar": {
             "outlinewidth": 0,
             "ticks": ""
            },
            "colorscale": [
             [
              0,
              "#0d0887"
             ],
             [
              0.1111111111111111,
              "#46039f"
             ],
             [
              0.2222222222222222,
              "#7201a8"
             ],
             [
              0.3333333333333333,
              "#9c179e"
             ],
             [
              0.4444444444444444,
              "#bd3786"
             ],
             [
              0.5555555555555556,
              "#d8576b"
             ],
             [
              0.6666666666666666,
              "#ed7953"
             ],
             [
              0.7777777777777778,
              "#fb9f3a"
             ],
             [
              0.8888888888888888,
              "#fdca26"
             ],
             [
              1,
              "#f0f921"
             ]
            ],
            "type": "surface"
           }
          ],
          "table": [
           {
            "cells": {
             "fill": {
              "color": "#EBF0F8"
             },
             "line": {
              "color": "white"
             }
            },
            "header": {
             "fill": {
              "color": "#C8D4E3"
             },
             "line": {
              "color": "white"
             }
            },
            "type": "table"
           }
          ]
         },
         "layout": {
          "annotationdefaults": {
           "arrowcolor": "#2a3f5f",
           "arrowhead": 0,
           "arrowwidth": 1
          },
          "autotypenumbers": "strict",
          "coloraxis": {
           "colorbar": {
            "outlinewidth": 0,
            "ticks": ""
           }
          },
          "colorscale": {
           "diverging": [
            [
             0,
             "#8e0152"
            ],
            [
             0.1,
             "#c51b7d"
            ],
            [
             0.2,
             "#de77ae"
            ],
            [
             0.3,
             "#f1b6da"
            ],
            [
             0.4,
             "#fde0ef"
            ],
            [
             0.5,
             "#f7f7f7"
            ],
            [
             0.6,
             "#e6f5d0"
            ],
            [
             0.7,
             "#b8e186"
            ],
            [
             0.8,
             "#7fbc41"
            ],
            [
             0.9,
             "#4d9221"
            ],
            [
             1,
             "#276419"
            ]
           ],
           "sequential": [
            [
             0,
             "#0d0887"
            ],
            [
             0.1111111111111111,
             "#46039f"
            ],
            [
             0.2222222222222222,
             "#7201a8"
            ],
            [
             0.3333333333333333,
             "#9c179e"
            ],
            [
             0.4444444444444444,
             "#bd3786"
            ],
            [
             0.5555555555555556,
             "#d8576b"
            ],
            [
             0.6666666666666666,
             "#ed7953"
            ],
            [
             0.7777777777777778,
             "#fb9f3a"
            ],
            [
             0.8888888888888888,
             "#fdca26"
            ],
            [
             1,
             "#f0f921"
            ]
           ],
           "sequentialminus": [
            [
             0,
             "#0d0887"
            ],
            [
             0.1111111111111111,
             "#46039f"
            ],
            [
             0.2222222222222222,
             "#7201a8"
            ],
            [
             0.3333333333333333,
             "#9c179e"
            ],
            [
             0.4444444444444444,
             "#bd3786"
            ],
            [
             0.5555555555555556,
             "#d8576b"
            ],
            [
             0.6666666666666666,
             "#ed7953"
            ],
            [
             0.7777777777777778,
             "#fb9f3a"
            ],
            [
             0.8888888888888888,
             "#fdca26"
            ],
            [
             1,
             "#f0f921"
            ]
           ]
          },
          "colorway": [
           "#636efa",
           "#EF553B",
           "#00cc96",
           "#ab63fa",
           "#FFA15A",
           "#19d3f3",
           "#FF6692",
           "#B6E880",
           "#FF97FF",
           "#FECB52"
          ],
          "font": {
           "color": "#2a3f5f"
          },
          "geo": {
           "bgcolor": "white",
           "lakecolor": "white",
           "landcolor": "#E5ECF6",
           "showlakes": true,
           "showland": true,
           "subunitcolor": "white"
          },
          "hoverlabel": {
           "align": "left"
          },
          "hovermode": "closest",
          "mapbox": {
           "style": "light"
          },
          "paper_bgcolor": "white",
          "plot_bgcolor": "#E5ECF6",
          "polar": {
           "angularaxis": {
            "gridcolor": "white",
            "linecolor": "white",
            "ticks": ""
           },
           "bgcolor": "#E5ECF6",
           "radialaxis": {
            "gridcolor": "white",
            "linecolor": "white",
            "ticks": ""
           }
          },
          "scene": {
           "xaxis": {
            "backgroundcolor": "#E5ECF6",
            "gridcolor": "white",
            "gridwidth": 2,
            "linecolor": "white",
            "showbackground": true,
            "ticks": "",
            "zerolinecolor": "white"
           },
           "yaxis": {
            "backgroundcolor": "#E5ECF6",
            "gridcolor": "white",
            "gridwidth": 2,
            "linecolor": "white",
            "showbackground": true,
            "ticks": "",
            "zerolinecolor": "white"
           },
           "zaxis": {
            "backgroundcolor": "#E5ECF6",
            "gridcolor": "white",
            "gridwidth": 2,
            "linecolor": "white",
            "showbackground": true,
            "ticks": "",
            "zerolinecolor": "white"
           }
          },
          "shapedefaults": {
           "line": {
            "color": "#2a3f5f"
           }
          },
          "ternary": {
           "aaxis": {
            "gridcolor": "white",
            "linecolor": "white",
            "ticks": ""
           },
           "baxis": {
            "gridcolor": "white",
            "linecolor": "white",
            "ticks": ""
           },
           "bgcolor": "#E5ECF6",
           "caxis": {
            "gridcolor": "white",
            "linecolor": "white",
            "ticks": ""
           }
          },
          "title": {
           "x": 0.05
          },
          "xaxis": {
           "automargin": true,
           "gridcolor": "white",
           "linecolor": "white",
           "ticks": "",
           "title": {
            "standoff": 15
           },
           "zerolinecolor": "white",
           "zerolinewidth": 2
          },
          "yaxis": {
           "automargin": true,
           "gridcolor": "white",
           "linecolor": "white",
           "ticks": "",
           "title": {
            "standoff": 15
           },
           "zerolinecolor": "white",
           "zerolinewidth": 2
          }
         }
        },
        "title": {
         "text": "Mapa Mundial da População por País (2025)"
        }
       }
      }
     },
     "metadata": {},
     "output_type": "display_data"
    }
   ],
   "source": [
    "import plotly.express as px\n",
    "\n",
    "fig = px.choropleth(df,\n",
    "                    locations='country_or_dependency',\n",
    "                    locationmode='country names',\n",
    "                    color='population_2025',\n",
    "                    hover_name='country_or_dependency',\n",
    "                    color_continuous_scale='Plasma',\n",
    "                    title='Mapa Mundial da População por País (2025)')\n",
    "fig.show()\n"
   ]
  },
  {
   "cell_type": "markdown",
   "id": "df7bfeb5",
   "metadata": {},
   "source": [
    "## 📈 Correlações Demográficas\n",
    "\n",
    "Nesta etapa, vamos investigar possíveis relações entre variáveis demográficas importantes:\n",
    "\n",
    "- **Taxa de fertilidade** vs. **crescimento populacional**\n",
    "- **Migração líquida** vs. **crescimento populacional**\n",
    "- **Taxa de fertilidade** vs. **migração líquida**\n",
    "\n",
    "Essas visualizações ajudam a entender como fatores sociais e econômicos influenciam o crescimento populacional em diferentes países.\n"
   ]
  },
  {
   "cell_type": "code",
   "execution_count": 6,
   "id": "728313e2",
   "metadata": {},
   "outputs": [
    {
     "data": {
      "image/png": "[encoded data removed]",
      "text/plain": [
       "<Figure size 800x600 with 1 Axes>"
      ]
     },
     "metadata": {},
     "output_type": "display_data"
    },
    {
     "data": {
      "image/png": "[encoded data removed]",
      "text/plain": [
       "<Figure size 800x600 with 1 Axes>"
      ]
     },
     "metadata": {},
     "output_type": "display_data"
    },
    {
     "data": {
      "image/png": "[encoded data removed]",
      "text/plain": [
       "<Figure size 800x600 with 1 Axes>"
      ]
     },
     "metadata": {},
     "output_type": "display_data"
    }
   ],
   "source": [
    "# Fertilidade vs Crescimento Populacional\n",
    "plt.figure(figsize=(8,6))\n",
    "sns.scatterplot(x='fert_rate', y='yearly_change', data=df)\n",
    "plt.title('Taxa de Fertilidade vs Crescimento Populacional (%)')\n",
    "plt.xlabel('Taxa de Fertilidade')\n",
    "plt.ylabel('Crescimento Populacional (%)')\n",
    "plt.grid(True)\n",
    "plt.tight_layout()\n",
    "plt.show()\n",
    "\n",
    "# Migração líquida vs Crescimento Populacional\n",
    "plt.figure(figsize=(8,6))\n",
    "sns.scatterplot(x='migrants_net', y='yearly_change', data=df)\n",
    "plt.title('Migração Líquida vs Crescimento Populacional (%)')\n",
    "plt.xlabel('Migração Líquida')\n",
    "plt.ylabel('Crescimento Populacional (%)')\n",
    "plt.grid(True)\n",
    "plt.tight_layout()\n",
    "plt.show()\n",
    "\n",
    "# Fertilidade vs Migração líquida\n",
    "plt.figure(figsize=(8,6))\n",
    "sns.scatterplot(x='fert_rate', y='migrants_net', data=df)\n",
    "plt.title('Taxa de Fertilidade vs Migração Líquida')\n",
    "plt.xlabel('Taxa de Fertilidade')\n",
    "plt.ylabel('Migração Líquida')\n",
    "plt.grid(True)\n",
    "plt.tight_layout()\n",
    "plt.show()\n"
   ]
  },
  {
   "cell_type": "markdown",
   "id": "8df6802c",
   "metadata": {},
   "source": [
    "## 📉 Correlações Estatísticas e Destaques\n",
    "\n",
    "Além das visualizações, é útil calcular coeficientes de correlação entre variáveis demográficas para entender a força e direção das relações. Também podemos destacar países com características extremas ou interessantes, como:\n",
    "\n",
    "- Maior taxa de fertilidade\n",
    "- Maior migração líquida\n",
    "- Crescimento populacional mais acelerado\n",
    "\n",
    "Essas análises ajudam a identificar padrões e exceções que merecem atenção especial.\n"
   ]
  },
  {
   "cell_type": "code",
   "execution_count": 7,
   "id": "2b2837f0",
   "metadata": {},
   "outputs": [
    {
     "name": "stdout",
     "output_type": "stream",
     "text": [
      "📊 Matriz de Correlação:\n",
      "               fert_rate  yearly_change  migrants_net  urban_pop_%  median_age\n",
      "fert_rate       1.000000       0.747059     -0.088665    -0.452921   -0.854768\n",
      "yearly_change   0.747059       1.000000      0.149837    -0.260990   -0.668436\n",
      "migrants_net   -0.088665       0.149837      1.000000     0.138218    0.045187\n",
      "urban_pop_%    -0.452921      -0.260990      0.138218     1.000000    0.421857\n",
      "median_age     -0.854768      -0.668436      0.045187     0.421857    1.000000\n",
      "\n",
      "🌟 País com maior taxa de fertilidade:\n",
      "country_or_dependency    Chad\n",
      "fert_rate                5.94\n",
      "Name: 63, dtype: object\n",
      "\n",
      "🌍 País com maior migração líquida:\n",
      "country_or_dependency      Ukraine\n",
      "migrants_net             1702358.0\n",
      "Name: 39, dtype: object\n",
      "\n",
      "📈 País com maior crescimento populacional:\n",
      "country_or_dependency    Tokelau\n",
      "yearly_change               4.07\n",
      "Name: 230, dtype: object\n"
     ]
    }
   ],
   "source": [
    "# Correlações estatísticas entre variáveis numéricas\n",
    "correlacoes = df[['fert_rate', 'yearly_change', 'migrants_net', 'urban_pop_%', 'median_age']].corr()\n",
    "print(\"📊 Matriz de Correlação:\")\n",
    "print(correlacoes)\n",
    "\n",
    "# País com maior taxa de fertilidade\n",
    "fert_max = df.loc[df['fert_rate'].idxmax()]\n",
    "print(\"\\n🌟 País com maior taxa de fertilidade:\")\n",
    "print(fert_max[['country_or_dependency', 'fert_rate']])\n",
    "\n",
    "# País com maior migração líquida\n",
    "mig_max = df.loc[df['migrants_net'].idxmax()]\n",
    "print(\"\\n🌍 País com maior migração líquida:\")\n",
    "print(mig_max[['country_or_dependency', 'migrants_net']])\n",
    "\n",
    "# País com maior crescimento populacional\n",
    "growth_max = df.loc[df['yearly_change'].idxmax()]\n",
    "print(\"\\n📈 País com maior crescimento populacional:\")\n",
    "print(growth_max[['country_or_dependency', 'yearly_change']])\n"
   ]
  },
  {
   "cell_type": "markdown",
   "id": "9aa99dab",
   "metadata": {},
   "source": [
    "## 🧠 Conclusões e Insights Finais\n",
    "\n",
    "A partir da análise do conjunto de dados de população mundial estimada para 2025, podemos destacar os seguintes pontos:\n",
    "\n",
    "- Os países mais populosos continuam sendo China, Índia, Estados Unidos, Indonésia e Paquistão, com destaque para o crescimento acelerado da Índia.\n",
    "- A taxa de fertilidade apresenta correlação moderada com o crescimento populacional, especialmente em países em desenvolvimento.\n",
    "- Migração líquida tem impacto significativo em países com baixa taxa de natalidade, como Alemanha, Canadá e Austrália.\n",
    "- A urbanização está em alta: a maioria dos países apresenta mais de 50% da população vivendo em áreas"
   ]
  }
 ],
 "metadata": {
  "kernelspec": {
   "display_name": "Python 3",
   "language": "python",
   "name": "python3"
  },
  "language_info": {
   "codemirror_mode": {
    "name": "ipython",
    "version": 3
   },
   "file_extension": ".py",
   "mimetype": "text/x-python",
   "name": "python",
   "nbconvert_exporter": "python",
   "pygments_lexer": "ipython3",
   "version": "3.11.0"
  }
 },
 "nbformat": 4,
 "nbformat_minor": 5
}
